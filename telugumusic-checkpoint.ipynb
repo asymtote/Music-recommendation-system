{
 "cells": [
  {
   "cell_type": "code",
   "execution_count": 2,
   "id": "5c3fb33e-696e-4a85-832d-f925f3ac1d09",
   "metadata": {},
   "outputs": [],
   "source": [
    "# Import necessary libraries\n",
    "import pandas as pd\n",
    "import nltk\n",
    "from sklearn.feature_extraction.text import TfidfVectorizer\n",
    "from sklearn.metrics.pairwise import cosine_similarity\n",
    "import pickle\n",
    "import random"
   ]
  },
  {
   "cell_type": "code",
   "execution_count": 3,
   "id": "b77a871b-0680-4cd8-a70d-a98d19799ec7",
   "metadata": {},
   "outputs": [],
   "source": [
    "df = pd.read_csv(\"cleaned_songs.csv\")"
   ]
  },
  {
   "cell_type": "code",
   "execution_count": 4,
   "id": "8ae8cf9d-70a8-4c8e-a707-9d6089d42ae3",
   "metadata": {},
   "outputs": [
    {
     "name": "stdout",
     "output_type": "stream",
     "text": [
      "<class 'pandas.core.frame.DataFrame'>\n",
      "RangeIndex: 1032 entries, 0 to 1031\n",
      "Data columns (total 6 columns):\n",
      " #   Column  Non-Null Count  Dtype \n",
      "---  ------  --------------  ----- \n",
      " 0   title   1032 non-null   object\n",
      " 1   album   1032 non-null   object\n",
      " 2   year    1032 non-null   int64 \n",
      " 3   artist  1027 non-null   object\n",
      " 4   genre   1032 non-null   object\n",
      " 5   text    1027 non-null   object\n",
      "dtypes: int64(1), object(5)\n",
      "memory usage: 48.5+ KB\n"
     ]
    }
   ],
   "source": [
    "df.info()"
   ]
  },
  {
   "cell_type": "code",
   "execution_count": null,
   "id": "f6280426-6f13-4a52-92b7-68fbbc54ffda",
   "metadata": {},
   "outputs": [],
   "source": []
  },
  {
   "cell_type": "code",
   "execution_count": 5,
   "id": "c6af5d9c-32d5-49df-bcb9-2e07dc605302",
   "metadata": {},
   "outputs": [],
   "source": [
    "# Drop unnecessary columns\n",
    "columns_to_drop = ['id', 'image', 'url', 'duration']\n",
    "columns_to_drop = [col for col in columns_to_drop if col in df.columns]\n",
    "df = df.drop(columns_to_drop, axis=1)"
   ]
  },
  {
   "cell_type": "code",
   "execution_count": 6,
   "id": "f10fb8dc-60f5-4a44-9dd0-9f29919be1e7",
   "metadata": {},
   "outputs": [],
   "source": [
    "# Add genre column\n",
    "genres = ['Pop', 'Rock', 'Classical', 'Jazz', 'Hip-hop', 'Country', 'Electronic', 'Blues']\n",
    "df['genre'] = [random.choice(genres) for _ in range(len(df))]  # Random genres for all songs\n"
   ]
  },
  {
   "cell_type": "code",
   "execution_count": 7,
   "id": "403162fb-9bfc-4509-8e43-0dbd4972331d",
   "metadata": {},
   "outputs": [],
   "source": [
    "# Ensure the dataset includes the genre column\n",
    "if 'genre' not in df.columns:\n",
    "    raise ValueError(\"The dataset must include a 'genre' column.\")"
   ]
  },
  {
   "cell_type": "code",
   "execution_count": 8,
   "id": "fa330a07-543b-42f0-bfc3-0c045ed6baba",
   "metadata": {},
   "outputs": [
    {
     "name": "stderr",
     "output_type": "stream",
     "text": [
      "[nltk_data] Downloading package punkt to C:\\Users\\RAM\n",
      "[nltk_data]     KISHOR\\AppData\\Roaming\\nltk_data...\n",
      "[nltk_data]   Package punkt is already up-to-date!\n"
     ]
    }
   ],
   "source": [
    "# Tokenization and text preprocessing\n",
    "nltk.download('punkt')\n",
    "from nltk.stem.porter import PorterStemmer\n",
    "stemmer = PorterStemmer()"
   ]
  },
  {
   "cell_type": "code",
   "execution_count": 9,
   "id": "b1614d52-2402-4b77-b950-a75af091810d",
   "metadata": {},
   "outputs": [],
   "source": [
    "def tokenization(txt):\n",
    "    txt = str(txt).lower()  # Convert text to lowercase\n",
    "    tokens = nltk.word_tokenize(txt)  # Tokenize the text\n",
    "    stemming = [stemmer.stem(w) for w in tokens]  # Apply stemming\n",
    "    return \" \".join(stemming)"
   ]
  },
  {
   "cell_type": "code",
   "execution_count": 10,
   "id": "7ce07adb-b882-4b99-abcb-62f6768876ac",
   "metadata": {},
   "outputs": [],
   "source": [
    "# Combine 'title', 'album', and 'artist' into one text column\n",
    "df['text'] = df['title'] + ' ' + df['album'] + ' ' + df['artist']\n",
    "df['text'] = df['text'].apply(lambda x: tokenization(x))"
   ]
  },
  {
   "cell_type": "code",
   "execution_count": 11,
   "id": "9da3537f-a890-41ca-a548-8602a712ac2f",
   "metadata": {},
   "outputs": [],
   "source": [
    "\n",
    "# Initialize TF-IDF Vectorizer and transform the text column\n",
    "tfidvector = TfidfVectorizer(analyzer='word', stop_words='english')\n",
    "matrix = tfidvector.fit_transform(df['text'])"
   ]
  },
  {
   "cell_type": "code",
   "execution_count": 12,
   "id": "12c851cf-5c88-47a2-9f01-4473725145fd",
   "metadata": {},
   "outputs": [],
   "source": [
    "# Calculate the cosine similarity matrix\n",
    "similarity = cosine_similarity(matrix)"
   ]
  },
  {
   "cell_type": "code",
   "execution_count": 13,
   "id": "7390d027-db42-44c1-a779-ce6f1cee4e6d",
   "metadata": {},
   "outputs": [],
   "source": [
    "# Recommendation function for genre-based filtering\n",
    "def genre_based_recommendation(selected_genre):\n",
    "    # Filter the DataFrame based on the user's selected genre\n",
    "    genre_df = df[df['genre'] == selected_genre]\n",
    "\n",
    "    if genre_df.empty:\n",
    "        return f\"No songs found for the genre: {selected_genre}\"\n",
    "\n",
    "    # Recompute TF-IDF and similarity matrix for the filtered dataset\n",
    "    genre_tfidvector = TfidfVectorizer(analyzer='word', stop_words='english')\n",
    "    genre_matrix = genre_tfidvector.fit_transform(genre_df['text'])\n",
    "    genre_similarity = cosine_similarity(genre_matrix)\n",
    "\n",
    "    # Recommend the top songs in the selected genre\n",
    "    top_recommendations = genre_df.head(10)['title'].tolist()  # Get top 10 songs\n",
    "    return top_recommendations\n"
   ]
  },
  {
   "cell_type": "code",
   "execution_count": 14,
   "id": "ec13f2e3-55d8-465a-a154-870b7021207a",
   "metadata": {},
   "outputs": [],
   "source": [
    "def song_based_recommendation(selected_song):\n",
    "    # Get the genre of the selected song\n",
    "    selected_song_data = df[df['title'] == selected_song]\n",
    "    if selected_song_data.empty:\n",
    "        return [], []\n",
    "\n",
    "    selected_genre = selected_song_data.iloc[0]['genre']\n",
    "    # Recommend songs in the same genre\n",
    "    genre_recommendations = genre_based_recommendation(selected_genre)\n",
    "\n",
    "    return genre_recommendations"
   ]
  },
  {
   "cell_type": "code",
   "execution_count": 15,
   "id": "386fa4f4-f379-484a-baf1-06c1e78b5e09",
   "metadata": {},
   "outputs": [
    {
     "name": "stdout",
     "output_type": "stream",
     "text": [
      "Recommendations based on the song Ola Olaala Ala:\n",
      "['Ola Olaala Ala', 'Maha Muddu', 'Kalalo Kooda', 'Adhento Gaani Vunnapaatuga', 'Kollagottey', 'Bhairava Anthem (From &quot;Kalki 2898 Ad&quot;) (Telugu)', 'Tella Tellani Cheera', 'Nee Yadalo Naaku', 'Sokuladi Sittammi', 'Tharagathi Gadhi']\n"
     ]
    }
   ],
   "source": [
    "# Example usage:\n",
    "selected_song = \"Ola Olaala Ala\"  # Replace with the user's input\n",
    "recommendations = song_based_recommendation(selected_song)\n",
    "print(f\"Recommendations based on the song {selected_song}:\")\n",
    "print(recommendations)"
   ]
  },
  {
   "cell_type": "code",
   "execution_count": 16,
   "id": "ebfb3fa1-a385-4abe-be9a-9fb071921a31",
   "metadata": {},
   "outputs": [],
   "source": [
    "student_info = df[df['title'] == 'Nalupu']"
   ]
  },
  {
   "cell_type": "code",
   "execution_count": 17,
   "id": "022b96dd-22b4-4a2e-88a2-ecd8fcf13b3f",
   "metadata": {},
   "outputs": [
    {
     "data": {
      "text/html": [
       "<div>\n",
       "<style scoped>\n",
       "    .dataframe tbody tr th:only-of-type {\n",
       "        vertical-align: middle;\n",
       "    }\n",
       "\n",
       "    .dataframe tbody tr th {\n",
       "        vertical-align: top;\n",
       "    }\n",
       "\n",
       "    .dataframe thead th {\n",
       "        text-align: right;\n",
       "    }\n",
       "</style>\n",
       "<table border=\"1\" class=\"dataframe\">\n",
       "  <thead>\n",
       "    <tr style=\"text-align: right;\">\n",
       "      <th></th>\n",
       "      <th>title</th>\n",
       "      <th>album</th>\n",
       "      <th>year</th>\n",
       "      <th>artist</th>\n",
       "      <th>genre</th>\n",
       "      <th>text</th>\n",
       "    </tr>\n",
       "  </thead>\n",
       "  <tbody>\n",
       "    <tr>\n",
       "      <th>37</th>\n",
       "      <td>Nalupu</td>\n",
       "      <td>Kanchana</td>\n",
       "      <td>2011</td>\n",
       "      <td>Thaman SRita ThyagarajanSuchith Santoshan</td>\n",
       "      <td>Country</td>\n",
       "      <td>nalupu kanchana thaman srita thyagarajansuchit...</td>\n",
       "    </tr>\n",
       "  </tbody>\n",
       "</table>\n",
       "</div>"
      ],
      "text/plain": [
       "     title     album  year                                     artist  \\\n",
       "37  Nalupu  Kanchana  2011  Thaman SRita ThyagarajanSuchith Santoshan   \n",
       "\n",
       "      genre                                               text  \n",
       "37  Country  nalupu kanchana thaman srita thyagarajansuchit...  "
      ]
     },
     "execution_count": 17,
     "metadata": {},
     "output_type": "execute_result"
    }
   ],
   "source": [
    "student_info"
   ]
  },
  {
   "cell_type": "code",
   "execution_count": 18,
   "id": "dd10f1a0-ebf1-46b6-b107-bf8d106c5004",
   "metadata": {},
   "outputs": [],
   "source": [
    "# Save the similarity matrix and the dataframe for later use\n",
    "pickle.dump(similarity, open('similarity.pkl', 'wb'))\n",
    "pickle.dump(df, open('df.pkl', 'wb'))"
   ]
  },
  {
   "cell_type": "code",
   "execution_count": 19,
   "id": "1542d434-865c-456a-9e1b-353095eea2be",
   "metadata": {},
   "outputs": [
    {
     "data": {
      "text/html": [
       "<div>\n",
       "<style scoped>\n",
       "    .dataframe tbody tr th:only-of-type {\n",
       "        vertical-align: middle;\n",
       "    }\n",
       "\n",
       "    .dataframe tbody tr th {\n",
       "        vertical-align: top;\n",
       "    }\n",
       "\n",
       "    .dataframe thead th {\n",
       "        text-align: right;\n",
       "    }\n",
       "</style>\n",
       "<table border=\"1\" class=\"dataframe\">\n",
       "  <thead>\n",
       "    <tr style=\"text-align: right;\">\n",
       "      <th></th>\n",
       "      <th>title</th>\n",
       "      <th>album</th>\n",
       "      <th>year</th>\n",
       "      <th>artist</th>\n",
       "      <th>genre</th>\n",
       "      <th>text</th>\n",
       "    </tr>\n",
       "  </thead>\n",
       "  <tbody>\n",
       "    <tr>\n",
       "      <th>0</th>\n",
       "      <td>Anuvanuvuu</td>\n",
       "      <td>Om Bheem Bush</td>\n",
       "      <td>2024</td>\n",
       "      <td>Sunny M.R.Arijit Singh</td>\n",
       "      <td>Classical</td>\n",
       "      <td>anuvanuvuu om bheem bush sunni m.r.arijit singh</td>\n",
       "    </tr>\n",
       "    <tr>\n",
       "      <th>1</th>\n",
       "      <td>Suttamla Soosi</td>\n",
       "      <td>Gangs Of Godavari</td>\n",
       "      <td>2024</td>\n",
       "      <td>Anurag KulkarniYuvan Shankar Raja</td>\n",
       "      <td>Pop</td>\n",
       "      <td>suttamla soosi gang of godavari anurag kulkarn...</td>\n",
       "    </tr>\n",
       "    <tr>\n",
       "      <th>2</th>\n",
       "      <td>Ola Olaala Ala</td>\n",
       "      <td>Orange</td>\n",
       "      <td>2010</td>\n",
       "      <td>Ranina ReddyN.C. Karunya</td>\n",
       "      <td>Hip-hop</td>\n",
       "      <td>ola olaala ala orang ranina reddyn.c . karunya</td>\n",
       "    </tr>\n",
       "    <tr>\n",
       "      <th>3</th>\n",
       "      <td>Radhika</td>\n",
       "      <td>Tillu Square</td>\n",
       "      <td>2023</td>\n",
       "      <td>Ram Miriyala</td>\n",
       "      <td>Pop</td>\n",
       "      <td>radhika tillu squar ram miriyala</td>\n",
       "    </tr>\n",
       "    <tr>\n",
       "      <th>4</th>\n",
       "      <td>Nijame Ne Chebutunna</td>\n",
       "      <td>Ooru Peru Bhairavakona</td>\n",
       "      <td>2023</td>\n",
       "      <td>Sid Sriram</td>\n",
       "      <td>Pop</td>\n",
       "      <td>nijam ne chebutunna ooru peru bhairavakona sid...</td>\n",
       "    </tr>\n",
       "  </tbody>\n",
       "</table>\n",
       "</div>"
      ],
      "text/plain": [
       "                  title                   album  year  \\\n",
       "0            Anuvanuvuu           Om Bheem Bush  2024   \n",
       "1        Suttamla Soosi       Gangs Of Godavari  2024   \n",
       "2        Ola Olaala Ala                  Orange  2010   \n",
       "3               Radhika            Tillu Square  2023   \n",
       "4  Nijame Ne Chebutunna  Ooru Peru Bhairavakona  2023   \n",
       "\n",
       "                              artist      genre  \\\n",
       "0             Sunny M.R.Arijit Singh  Classical   \n",
       "1  Anurag KulkarniYuvan Shankar Raja        Pop   \n",
       "2           Ranina ReddyN.C. Karunya    Hip-hop   \n",
       "3                       Ram Miriyala        Pop   \n",
       "4                         Sid Sriram        Pop   \n",
       "\n",
       "                                                text  \n",
       "0    anuvanuvuu om bheem bush sunni m.r.arijit singh  \n",
       "1  suttamla soosi gang of godavari anurag kulkarn...  \n",
       "2     ola olaala ala orang ranina reddyn.c . karunya  \n",
       "3                   radhika tillu squar ram miriyala  \n",
       "4  nijam ne chebutunna ooru peru bhairavakona sid...  "
      ]
     },
     "execution_count": 19,
     "metadata": {},
     "output_type": "execute_result"
    }
   ],
   "source": [
    "df.head()"
   ]
  },
  {
   "cell_type": "code",
   "execution_count": null,
   "id": "486f06ca-2e1f-4d98-ad6a-b8a178cfacf0",
   "metadata": {},
   "outputs": [],
   "source": []
  },
  {
   "cell_type": "code",
   "execution_count": null,
   "id": "2a2abe7f-3b93-4a6e-a161-e838e3195c97",
   "metadata": {},
   "outputs": [],
   "source": []
  },
  {
   "cell_type": "code",
   "execution_count": null,
   "id": "3f981bed-68a2-4eea-840e-07cddbda08e4",
   "metadata": {},
   "outputs": [],
   "source": []
  },
  {
   "cell_type": "code",
   "execution_count": null,
   "id": "c07a0c69-3d2a-4da3-9685-9a1c1dd8d968",
   "metadata": {},
   "outputs": [],
   "source": []
  },
  {
   "cell_type": "code",
   "execution_count": null,
   "id": "b2c92a9a-ef06-4237-b826-2b90cdf550d0",
   "metadata": {},
   "outputs": [],
   "source": []
  },
  {
   "cell_type": "code",
   "execution_count": null,
   "id": "33ff0b4b-c864-4381-bf3d-8cbed893c190",
   "metadata": {},
   "outputs": [],
   "source": []
  },
  {
   "cell_type": "code",
   "execution_count": null,
   "id": "e600e5d1-0386-4b42-93f6-75e1a354a334",
   "metadata": {},
   "outputs": [],
   "source": []
  },
  {
   "cell_type": "code",
   "execution_count": null,
   "id": "81faa710-c865-47a8-acb0-45ea56e2a882",
   "metadata": {},
   "outputs": [],
   "source": []
  },
  {
   "cell_type": "code",
   "execution_count": null,
   "id": "1624881b-a961-48f5-9153-0428793b9978",
   "metadata": {},
   "outputs": [],
   "source": []
  },
  {
   "cell_type": "code",
   "execution_count": null,
   "id": "0515e258-7eff-4f4f-bd51-d6cd25d8fc14",
   "metadata": {},
   "outputs": [],
   "source": []
  },
  {
   "cell_type": "code",
   "execution_count": null,
   "id": "d78f3119-1abd-40c7-a5e9-f1e18cabf409",
   "metadata": {},
   "outputs": [],
   "source": []
  }
 ],
 "metadata": {
  "kernelspec": {
   "display_name": "Python 3 (ipykernel)",
   "language": "python",
   "name": "python3"
  },
  "language_info": {
   "codemirror_mode": {
    "name": "ipython",
    "version": 3
   },
   "file_extension": ".py",
   "mimetype": "text/x-python",
   "name": "python",
   "nbconvert_exporter": "python",
   "pygments_lexer": "ipython3",
   "version": "3.13.0"
  }
 },
 "nbformat": 4,
 "nbformat_minor": 5
}
